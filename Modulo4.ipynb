{
 "cells": [
  {
   "cell_type": "markdown",
   "metadata": {},
   "source": [
    "#Ejercicio 1: Transformar cadenas\n"
   ]
  },
  {
   "cell_type": "code",
   "execution_count": 114,
   "metadata": {},
   "outputs": [],
   "source": [
    "text = \"\"\"Interesting facts about the Moon. The Moon is Earth's only satellite. There are several interesting facts about the Moon and how it affects life here on Earth. On average, the Moon moves 4cm away from the Earth every year. This yearly drift is not significant enough to cause immediate effects on Earth. The highest daylight temperature of the Moon is 127 C.\"\"\"\n",
    "textF = text.split(\". \")\n"
   ]
  },
  {
   "cell_type": "code",
   "execution_count": 115,
   "metadata": {},
   "outputs": [],
   "source": [
    "\n",
    "#Key words\n",
    "palabras_clave = [\"average\", \"temperature\", \"distance\"]\n"
   ]
  },
  {
   "cell_type": "code",
   "execution_count": 116,
   "metadata": {},
   "outputs": [
    {
     "name": "stdout",
     "output_type": "stream",
     "text": [
      "On average, the Moon moves 4cm away from the Earth every year\n",
      "The highest daylight temperature of the Moon is 127 C.\n"
     ]
    }
   ],
   "source": [
    "\n",
    "#Este for recorre lo que es todo el texto enunciado por enunciado y el segundo for por\n",
    "#cada bucle que hace el anterior va buscando las palabras claves que se nos piden\n",
    "for sentence in textF:\n",
    "    for words in palabras_clave:\n",
    "        if words in sentence:\n",
    "            print(sentence)\n",
    "            break"
   ]
  },
  {
   "cell_type": "code",
   "execution_count": 117,
   "metadata": {},
   "outputs": [
    {
     "name": "stdout",
     "output_type": "stream",
     "text": [
      "On average, the Moon moves 4cm away from the Earth every year\n",
      "The highest daylight temperature of the Moon is 127 Celsius.\n"
     ]
    }
   ],
   "source": [
    "for sentence in textF:\n",
    "    for words in palabras_clave:\n",
    "        if words in sentence:\n",
    "            print(sentence.replace('C', 'Celsius'))\n",
    "            break"
   ]
  },
  {
   "cell_type": "markdown",
   "metadata": {},
   "source": [
    "#Ejercicio 2: Formateando Cadenas"
   ]
  },
  {
   "cell_type": "code",
   "execution_count": 118,
   "metadata": {},
   "outputs": [],
   "source": [
    "#Datos que se van a utilizar gravity en kms\n",
    "planet = 'Tierra'\n",
    "gravity  = 0.00162\n",
    "name = 'Luna'"
   ]
  },
  {
   "cell_type": "code",
   "execution_count": 119,
   "metadata": {},
   "outputs": [
    {
     "name": "stdout",
     "output_type": "stream",
     "text": [
      "Datos de gravedad sobre la Tierra\n"
     ]
    }
   ],
   "source": [
    "#Creacion de titulo\n",
    "title1 = \"\"\"Datos de gravedad sobre la {0}\"\"\".format(planet)\n",
    "title2 = \"\"\"Datos de gravedad sobre la {}\"\"\".format(planet)\n",
    "title3 = f\"\"\"Datos de gravedad sobre la {planet}\"\"\"\n",
    "print(title1)"
   ]
  },
  {
   "cell_type": "code",
   "execution_count": 120,
   "metadata": {},
   "outputs": [
    {
     "name": "stdout",
     "output_type": "stream",
     "text": [
      "Datos De Gravedad Sobre La Tierra \n",
      "################################################################################ \n",
      "Nombre del planeta: Tierra \n",
      "Gravedad en Luna: 1.6199999999999999 m/s2 \n",
      "\n"
     ]
    }
   ],
   "source": [
    "#Creacion de platilla y union de ambas cadenas\n",
    "sucesos = f\"\"\"{title1.title()} \n",
    "{'#'*80} \n",
    "Nombre del planeta: {planet} \n",
    "Gravedad en {name}: {gravity * 1000} m/s2 \n",
    "\"\"\"\n",
    "print(sucesos)"
   ]
  },
  {
   "cell_type": "code",
   "execution_count": 121,
   "metadata": {},
   "outputs": [],
   "source": [
    "#Datos nuevos\n",
    "planet = 'Marte'\n",
    "gravity  = 0.00143\n",
    "name = 'Ganímedes'\n",
    "title2 = \"\"\"Datos de gravedad sobre {}\"\"\".format(planet)"
   ]
  },
  {
   "cell_type": "code",
   "execution_count": 122,
   "metadata": {},
   "outputs": [
    {
     "name": "stdout",
     "output_type": "stream",
     "text": [
      "Datos De Gravedad Sobre Marte \n",
      "################################################################################ \n",
      "Nombre del planeta: Marte \n",
      "Gravedad en Ganímedes: 1.4300000000000002 m/s2 \n",
      "\n",
      "\n",
      "Datos de la gravedad de la Tierra\n",
      "#################################################\n",
      "Nombre del planeta: Marte \n",
      "Gravedad en Ganímedes: 0.00143 m/s2 \n",
      "\n",
      "\n",
      "Datos de la gravedad de la Tierra\n",
      "#################################################\n",
      "Nombre del planeta: Marte \n",
      "Gravedad en Ganímedes: 1.4300000000000002 m/s2 \n",
      "\n"
     ]
    }
   ],
   "source": [
    "#Creacion de platilla y union de ambas cadenas\n",
    "sucesos = f\"\"\"{title2.title()} \n",
    "{'#'*80} \n",
    "Nombre del planeta: {planet} \n",
    "Gravedad en {name}: {gravity * 1000} m/s2 \n",
    "\"\"\"\n",
    "print(sucesos)\n",
    "\n",
    "#Plantilla con .format() \n",
    "sucesosNuevos = \"\"\"\n",
    "Datos de la gravedad de la Tierra\n",
    "#################################################\n",
    "Nombre del planeta: {planet} \n",
    "Gravedad en {name}: {gravity} m/s2 \n",
    "\"\"\"\n",
    "print(sucesosNuevos.format(planet=planet, name=name, gravity=gravity))\n",
    "print(sucesosNuevos.format(planet=planet, name=name, gravity=gravity*1000))"
   ]
  }
 ],
 "metadata": {
  "interpreter": {
   "hash": "5374ae7892d73d4279e1c56e1fe3ce22c60d5607f841fa49173e4fe3618196a8"
  },
  "kernelspec": {
   "display_name": "Python 3.10.2 64-bit",
   "language": "python",
   "name": "python3"
  },
  "language_info": {
   "codemirror_mode": {
    "name": "ipython",
    "version": 3
   },
   "file_extension": ".py",
   "mimetype": "text/x-python",
   "name": "python",
   "nbconvert_exporter": "python",
   "pygments_lexer": "ipython3",
   "version": "3.10.2"
  },
  "orig_nbformat": 4
 },
 "nbformat": 4,
 "nbformat_minor": 2
}
