{
 "cells": [
  {
   "cell_type": "code",
   "execution_count": 1,
   "metadata": {},
   "outputs": [],
   "source": [
    "from datetime import timedelta, datetime\n",
    "\n",
    "def arrival_time(hours=51):\n",
    "    now = datetime.now()\n",
    "    arrival = now + timedelta(hours=hours)\n",
    "    return arrival.strftime('Arrival: %A %H:%M')"
   ]
  },
  {
   "cell_type": "code",
   "execution_count": 5,
   "metadata": {},
   "outputs": [
    {
     "data": {
      "text/plain": [
       "'Arrival: Friday 15:52'"
      ]
     },
     "execution_count": 5,
     "metadata": {},
     "output_type": "execute_result"
    }
   ],
   "source": [
    "arrival_time()"
   ]
  },
  {
   "cell_type": "code",
   "execution_count": 14,
   "metadata": {},
   "outputs": [],
   "source": [
    "def fuel_tank(tanque_principal,tanque_reserva,tanque_externo):\n",
    "    tanqueProm = (tanque_principal+tanque_reserva+tanque_externo)/3\n",
    "    fuel_report = f\"\"\"\n",
    "Total_Average: {tanqueProm}%\n",
    "Tanque_Principal: {tanque_principal}%\n",
    "Tanque_Reserva: {tanque_reserva}%\n",
    "Tanque_Externo: {tanque_externo}%\n",
    "\"\"\"\n",
    "    return fuel_report"
   ]
  },
  {
   "cell_type": "code",
   "execution_count": 15,
   "metadata": {},
   "outputs": [
    {
     "name": "stdout",
     "output_type": "stream",
     "text": [
      "\n",
      "Total_Average: 70.0%\n",
      "Tanque_Principal: 80%\n",
      "Tanque_Reserva: 70%\n",
      "Tanque_Externo: 60%\n",
      "\n"
     ]
    }
   ],
   "source": [
    "print(fuel_tank(80, 70, 60))"
   ]
  },
  {
   "cell_type": "code",
   "execution_count": 22,
   "metadata": {},
   "outputs": [
    {
     "name": "stdout",
     "output_type": "stream",
     "text": [
      "70.0\n"
     ]
    }
   ],
   "source": [
    "def prom(values):\n",
    "    total = sum(values)\n",
    "    number_of_items = len(values)\n",
    "    return total / number_of_items\n",
    "\n",
    "print(prom([60,70,80]))"
   ]
  },
  {
   "cell_type": "code",
   "execution_count": 23,
   "metadata": {},
   "outputs": [],
   "source": [
    "def fuel_tank2(tanque_principal,tanque_reserva,tanque_externo):\n",
    "    fuel_report = f\"\"\"\n",
    "Total_Average: {prom([tanque_principal,tanque_reserva,tanque_externo])}%\n",
    "Tanque_Principal: {tanque_principal}%\n",
    "Tanque_Reserva: {tanque_reserva}%\n",
    "Tanque_Externo: {tanque_externo}%\n",
    "\"\"\"\n",
    "    return fuel_report"
   ]
  },
  {
   "cell_type": "code",
   "execution_count": 24,
   "metadata": {},
   "outputs": [
    {
     "name": "stdout",
     "output_type": "stream",
     "text": [
      "\n",
      "Total_Average: 89.66666666666667%\n",
      "Tanque_Principal: 89%\n",
      "Tanque_Reserva: 90%\n",
      "Tanque_Externo: 90%\n",
      "\n"
     ]
    }
   ],
   "source": [
    "print(fuel_tank2(89,90,90))"
   ]
  },
  {
   "cell_type": "markdown",
   "metadata": {},
   "source": [
    "#Ejercicio 2: Trabajo con argumentos de palabra clave"
   ]
  },
  {
   "cell_type": "code",
   "execution_count": 29,
   "metadata": {},
   "outputs": [],
   "source": [
    "\n",
    "def informe(hora_pre, tiempoVuelo, destino, tanque_ex, tanque_in):\n",
    "    reporte = f\"\"\"\n",
    "    Informe Final\n",
    "    #############################\n",
    "    Mision a: {destino}\n",
    "    Tiempo de Vuelo: {hora_pre + tiempoVuelo} minutos\n",
    "    Gasolina Restante: {tanque_in + tanque_ex} galones\n",
    "        \"\"\"\n",
    "    return reporte\n"
   ]
  },
  {
   "cell_type": "code",
   "execution_count": 30,
   "metadata": {},
   "outputs": [
    {
     "name": "stdout",
     "output_type": "stream",
     "text": [
      "\n",
      "    Informe Final\n",
      "    #############################\n",
      "    Mision a: Marte\n",
      "    Tiempo de Vuelo: 90 minutos\n",
      "    Gasolina Restante: 8000 galones\n",
      "        \n"
     ]
    }
   ],
   "source": [
    "print(informe(30,60,'Marte',5000,3000))"
   ]
  },
  {
   "cell_type": "code",
   "execution_count": 44,
   "metadata": {},
   "outputs": [],
   "source": [
    "def informe2(destino, *combustible_res, **minutos):\n",
    "    reporte2 = f\"\"\"\n",
    "    Informe Final\n",
    "    #############################\n",
    "    Mision a: {destino}\n",
    "    Tiempo de Vuelo: {sum(minutos.values())} minutos\n",
    "    Gasolina Restante: {sum(combustible_res)} galones\n",
    "        \"\"\"\n",
    "    return reporte2"
   ]
  },
  {
   "cell_type": "code",
   "execution_count": 45,
   "metadata": {},
   "outputs": [
    {
     "name": "stdout",
     "output_type": "stream",
     "text": [
      "\n",
      "    Informe Final\n",
      "    #############################\n",
      "    Mision a: Marte\n",
      "    Tiempo de Vuelo: 100 minutos\n",
      "    Gasolina Restante: 15000 galones\n",
      "        \n"
     ]
    }
   ],
   "source": [
    "print(informe2(\"Marte\", 7000, 8000, pre_lanz=40, tiempo_v=60))"
   ]
  },
  {
   "cell_type": "code",
   "execution_count": 76,
   "metadata": {},
   "outputs": [],
   "source": [
    "def informe2(destino, *minutos, **combustible_res):\n",
    "    reporte2 = f\"\"\"\n",
    "    \\tInforme Final\n",
    "    #############################\n",
    "    \\tMision a: {destino}\n",
    "    \\tTiempo de Vuelo: {sum(minutos)} minutos\n",
    "    \\tGasolina Restante: {sum(combustible_res.values())} galones\n",
    "    \"\"\"\n",
    "    for nombre_tanke, galones in combustible_res.items():\n",
    "        reporte2 = reporte2 + f\"\\n\\tTanke de combustible {nombre_tanke} le quedan --> {galones}\\t\"\n",
    "    return reporte2"
   ]
  },
  {
   "cell_type": "code",
   "execution_count": 77,
   "metadata": {},
   "outputs": [
    {
     "name": "stdout",
     "output_type": "stream",
     "text": [
      "\n",
      "    \tInforme Final\n",
      "    #############################\n",
      "    \tMision a: Marte\n",
      "    \tTiempo de Vuelo: 100 minutos\n",
      "    \tGasolina Restante: 15000 galones\n",
      "    \n",
      "\tTanke de combustible interno le quedan --> 7000\t\n",
      "\tTanke de combustible externo le quedan --> 8000\t\n"
     ]
    }
   ],
   "source": [
    "print(informe2(\"Marte\", 40, 60, interno=7000, externo=8000))"
   ]
  }
 ],
 "metadata": {
  "interpreter": {
   "hash": "5374ae7892d73d4279e1c56e1fe3ce22c60d5607f841fa49173e4fe3618196a8"
  },
  "kernelspec": {
   "display_name": "Python 3.10.2 64-bit",
   "language": "python",
   "name": "python3"
  },
  "language_info": {
   "codemirror_mode": {
    "name": "ipython",
    "version": 3
   },
   "file_extension": ".py",
   "mimetype": "text/x-python",
   "name": "python",
   "nbconvert_exporter": "python",
   "pygments_lexer": "ipython3",
   "version": "3.10.2"
  },
  "orig_nbformat": 4
 },
 "nbformat": 4,
 "nbformat_minor": 2
}
