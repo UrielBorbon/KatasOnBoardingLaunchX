{
 "cells": [
  {
   "cell_type": "markdown",
   "metadata": {},
   "source": [
    "#Un asteroide se acerca, y viaja a una velocidad de 49 km/s."
   ]
  },
  {
   "cell_type": "code",
   "execution_count": 1,
   "metadata": {},
   "outputs": [
    {
     "name": "stdout",
     "output_type": "stream",
     "text": [
      "ADVERTENCIA, ASTEROIDE EN CAMINO\n"
     ]
    }
   ],
   "source": [
    "velocidadA = 49\n",
    "\n",
    "if (velocidadA >= 25):\n",
    "    print(\"ADVERTENCIA, ASTEROIDE EN CAMINO A IMPACTAR\")\n",
    "else:\n",
    "    print(\"ASTEROIDE NO IMPACTARA\")"
   ]
  },
  {
   "cell_type": "markdown",
   "metadata": {},
   "source": [
    "#Un asteroide se acerca, y viaja a una velocidad de 19 km/s."
   ]
  },
  {
   "cell_type": "code",
   "execution_count": 10,
   "metadata": {},
   "outputs": [
    {
     "name": "stdout",
     "output_type": "stream",
     "text": [
      "No se vera un rayo de Luz :c\n"
     ]
    }
   ],
   "source": [
    "velocidadA = input(\"Velocidad del Asteroide: \")\n",
    "\n",
    "if (int(velocidadA) == 20):\n",
    "    print(\"Buscar asteroide en el cielo\")\n",
    "elif (int(velocidadA) > 20):\n",
    "    print(\"Buscar asteroide en el cielo\")\n",
    "else:\n",
    "    print(\"No se vera un rayo de Luz :c\")"
   ]
  },
  {
   "cell_type": "markdown",
   "metadata": {},
   "source": [
    "#Alertas de Asteroides"
   ]
  },
  {
   "cell_type": "code",
   "execution_count": 16,
   "metadata": {},
   "outputs": [
    {
     "name": "stdout",
     "output_type": "stream",
     "text": [
      "Todo tranquilo c:\n"
     ]
    }
   ],
   "source": [
    "velocidadA = input(\"Velocidad del Asteroide: \")\n",
    "tamanioA = input(\"Tamaño del Asteroide: \")\n",
    "\n",
    "if (int(velocidadA) >= 25 and int(tamanioA) > 25):\n",
    "    print(\"Asteroide camino a golpear la tierra\")\n",
    "elif (int(velocidadA) >= 20):\n",
    "    print(\"Buscar asteroide en el cielo\")\n",
    "elif (int(tamanioA) < 25 or int(velocidadA) < 20):\n",
    "    print(\"Todo tranquilo c:\")\n",
    "else:\n",
    "    print(\"Todo tranquilo c:\")"
   ]
  }
 ],
 "metadata": {
  "interpreter": {
   "hash": "5374ae7892d73d4279e1c56e1fe3ce22c60d5607f841fa49173e4fe3618196a8"
  },
  "kernelspec": {
   "display_name": "Python 3.10.2 64-bit",
   "language": "python",
   "name": "python3"
  },
  "language_info": {
   "codemirror_mode": {
    "name": "ipython",
    "version": 3
   },
   "file_extension": ".py",
   "mimetype": "text/x-python",
   "name": "python",
   "nbconvert_exporter": "python",
   "pygments_lexer": "ipython3",
   "version": "3.10.2"
  },
  "orig_nbformat": 4
 },
 "nbformat": 4,
 "nbformat_minor": 2
}
