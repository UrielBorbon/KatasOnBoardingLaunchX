{
 "cells": [
  {
   "cell_type": "markdown",
   "metadata": {},
   "source": [
    "#Ejercicio1: Crear y usar listas de Python"
   ]
  },
  {
   "cell_type": "code",
   "execution_count": 68,
   "metadata": {},
   "outputs": [
    {
     "name": "stdout",
     "output_type": "stream",
     "text": [
      "Pluton\n",
      "9\n"
     ]
    }
   ],
   "source": [
    "#Creacion de lista y agregamos pluton\n",
    "planets = ['Mercurio', 'Venus', 'Tierra', 'Marte', 'Jupiter', 'Saturno', 'Urano', 'Neptuno']\n",
    "planets.append('Pluton')\n",
    "print(planets[8])\n",
    "print(len(planets))"
   ]
  },
  {
   "cell_type": "markdown",
   "metadata": {},
   "source": [
    "#Ejercicio 2: Trabajando con datos de una lista"
   ]
  },
  {
   "cell_type": "code",
   "execution_count": 72,
   "metadata": {},
   "outputs": [
    {
     "name": "stdout",
     "output_type": "stream",
     "text": [
      "Ese planeta si existe en nuestro sistema solar\n",
      "2\n",
      "Planetas mas cercanos a/a la Tierra\n",
      "['Mercurio', 'Venus']\n",
      "Planetas mas lejanos a/a la Tierra\n",
      "['Marte', 'Jupiter', 'Saturno', 'Urano', 'Neptuno', 'Pluton']\n"
     ]
    }
   ],
   "source": [
    "# Lista de planetas\n",
    "planetas = ['Mercurio', 'Venus', 'Tierra', 'Marte', 'Jupiter', 'Saturno', 'Urano', 'Neptuno']\n",
    "\n",
    "#Pedimos al usuario si esxite el planeta que digito y despues hacemos\n",
    "#una condicion si el planeta existe, localizalo en la lista\n",
    "#e imprime sus planetas mas cercanos y lejanos, sino\n",
    "#muestrame un mensaje de que el planeta no existe en nuestro sistema solar.\n",
    "userplanet = input(\"Digite el planeta de nuestro Sistema Solar: \")\n",
    "if userplanet in planetas:\n",
    "    print(\"Ese planeta si existe en nuestro sistema solar\")\n",
    "    user_index = planetas.index(userplanet)\n",
    "    print(user_index)\n",
    "    print('Planetas mas cercanos a/a la ' + userplanet)\n",
    "    print(planetas[0:user_index])\n",
    "    print('Planetas mas lejanos a/a la ' + userplanet)\n",
    "    print(planets[user_index + 1:])   \n",
    "else:\n",
    "    print(\"El planeta no existe en nuestro sistema solar\")\n",
    "\n"
   ]
  }
 ],
 "metadata": {
  "interpreter": {
   "hash": "5374ae7892d73d4279e1c56e1fe3ce22c60d5607f841fa49173e4fe3618196a8"
  },
  "kernelspec": {
   "display_name": "Python 3.10.2 64-bit",
   "language": "python",
   "name": "python3"
  },
  "language_info": {
   "codemirror_mode": {
    "name": "ipython",
    "version": 3
   },
   "file_extension": ".py",
   "mimetype": "text/x-python",
   "name": "python",
   "nbconvert_exporter": "python",
   "pygments_lexer": "ipython3",
   "version": "3.10.2"
  },
  "orig_nbformat": 4
 },
 "nbformat": 4,
 "nbformat_minor": 2
}
