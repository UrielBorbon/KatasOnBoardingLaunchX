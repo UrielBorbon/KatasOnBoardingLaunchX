{
 "cells": [
  {
   "cell_type": "markdown",
   "metadata": {},
   "source": [
    "#Ejercicio 1.- Utilizar operadores aritméticos"
   ]
  },
  {
   "cell_type": "code",
   "execution_count": 13,
   "metadata": {},
   "outputs": [],
   "source": [
    "from math import ceil, floor"
   ]
  },
  {
   "cell_type": "code",
   "execution_count": 14,
   "metadata": {},
   "outputs": [],
   "source": [
    "#Creacion de Variables\n",
    "tierra = 149597870\n",
    "jupiter = 778547200"
   ]
  },
  {
   "cell_type": "code",
   "execution_count": 16,
   "metadata": {},
   "outputs": [
    {
     "name": "stdout",
     "output_type": "stream",
     "text": [
      "628949330 kms\n",
      "390577534 millas\n"
     ]
    }
   ],
   "source": [
    "#Distancia entre dos planetas\n",
    "distanciak = (jupiter-tierra)\n",
    "distanciam = ceil((jupiter-tierra)*0.621)\n",
    "\n",
    "print(distanciak, \"kms\")  \n",
    "print(distanciam, \"millas\") "
   ]
  },
  {
   "cell_type": "markdown",
   "metadata": {},
   "source": [
    "#Ejercicio 2: convierte cadenas en números y usa valores absolutos"
   ]
  },
  {
   "cell_type": "code",
   "execution_count": 31,
   "metadata": {},
   "outputs": [],
   "source": [
    "#Creacion de variables con input y Conversion de cadena a int\n",
    "urano = int(input(\"Digite la distancia al sol de Urano: \"))\n",
    "neptuno = int(input(\"Digite la distancia al sol de Neptuno: \"))\n",
    "#type(urano)\n",
    "#type(neptuno)"
   ]
  },
  {
   "cell_type": "code",
   "execution_count": 34,
   "metadata": {},
   "outputs": [
    {
     "name": "stdout",
     "output_type": "stream",
     "text": [
      "-1622600000 Sin valor absoluto\n",
      "1622600000 kms\n",
      "1007634600 millas\n"
     ]
    }
   ],
   "source": [
    "#Distancia entre dos planetas\n",
    "distanciaSinVA = (urano - neptuno)\n",
    "distanciak = (abs(urano - neptuno))\n",
    "distanciam = abs(ceil((urano - neptuno)*0.621))\n",
    "\n",
    "print(distanciaSinVA, \"Sin valor absoluto\")\n",
    "print(distanciak, \"kms\")\n",
    "print(distanciam, \"millas\")"
   ]
  }
 ],
 "metadata": {
  "interpreter": {
   "hash": "5374ae7892d73d4279e1c56e1fe3ce22c60d5607f841fa49173e4fe3618196a8"
  },
  "kernelspec": {
   "display_name": "Python 3.10.2 64-bit",
   "language": "python",
   "name": "python3"
  },
  "language_info": {
   "codemirror_mode": {
    "name": "ipython",
    "version": 3
   },
   "file_extension": ".py",
   "mimetype": "text/x-python",
   "name": "python",
   "nbconvert_exporter": "python",
   "pygments_lexer": "ipython3",
   "version": "3.10.2"
  },
  "orig_nbformat": 4
 },
 "nbformat": 4,
 "nbformat_minor": 2
}
